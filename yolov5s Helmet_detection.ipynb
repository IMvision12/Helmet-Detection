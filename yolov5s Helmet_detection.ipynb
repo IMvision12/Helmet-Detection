{
 "cells": [
  {
   "cell_type": "code",
   "execution_count": 1,
   "id": "2f0aae9f",
   "metadata": {
    "_cell_guid": "b1076dfc-b9ad-4769-8c92-a6c4dae69d19",
    "_uuid": "8f2839f25d086af736a60e9eeb907d3b93b6e0e5",
    "execution": {
     "iopub.execute_input": "2022-01-26T19:45:32.486263Z",
     "iopub.status.busy": "2022-01-26T19:45:32.484771Z",
     "iopub.status.idle": "2022-01-26T19:45:32.520484Z",
     "shell.execute_reply": "2022-01-26T19:45:32.521298Z",
     "shell.execute_reply.started": "2022-01-26T16:03:31.981219Z"
    },
    "papermill": {
     "duration": 0.048641,
     "end_time": "2022-01-26T19:45:32.521648",
     "exception": false,
     "start_time": "2022-01-26T19:45:32.473007",
     "status": "completed"
    },
    "tags": []
   },
   "outputs": [],
   "source": [
    "from os import listdir\n",
    "import os\n",
    "from os.path import isfile, join\n",
    "import yaml\n",
    "from glob import glob\n",
    "import shutil"
   ]
  },
  {
   "cell_type": "code",
   "execution_count": 2,
   "id": "59654566",
   "metadata": {
    "execution": {
     "iopub.execute_input": "2022-01-26T19:45:32.557419Z",
     "iopub.status.busy": "2022-01-26T19:45:32.556511Z",
     "iopub.status.idle": "2022-01-26T19:45:35.963495Z",
     "shell.execute_reply": "2022-01-26T19:45:35.964814Z",
     "shell.execute_reply.started": "2022-01-26T16:03:32.522265Z"
    },
    "papermill": {
     "duration": 3.427149,
     "end_time": "2022-01-26T19:45:35.965220",
     "exception": false,
     "start_time": "2022-01-26T19:45:32.538071",
     "status": "completed"
    },
    "tags": []
   },
   "outputs": [
    {
     "data": {
      "text/plain": [
       "'/kaggle/working/Dataset'"
      ]
     },
     "execution_count": 2,
     "metadata": {},
     "output_type": "execute_result"
    }
   ],
   "source": [
    "shutil.copytree(\"../input/helmet-dataset20/Dataset\",\"/kaggle/working/Dataset\")"
   ]
  },
  {
   "cell_type": "code",
   "execution_count": 3,
   "id": "cc47e7f3",
   "metadata": {
    "execution": {
     "iopub.execute_input": "2022-01-26T19:45:35.986622Z",
     "iopub.status.busy": "2022-01-26T19:45:35.986096Z",
     "iopub.status.idle": "2022-01-26T19:45:35.992227Z",
     "shell.execute_reply": "2022-01-26T19:45:35.991622Z",
     "shell.execute_reply.started": "2022-01-26T16:04:09.029481Z"
    },
    "papermill": {
     "duration": 0.018439,
     "end_time": "2022-01-26T19:45:35.992366",
     "exception": false,
     "start_time": "2022-01-26T19:45:35.973927",
     "status": "completed"
    },
    "tags": []
   },
   "outputs": [
    {
     "name": "stdout",
     "output_type": "stream",
     "text": [
      "\n",
      "yaml:\n",
      "names:\n",
      "- With Helmet\n",
      "- Without Helmet\n",
      "nc: 2\n",
      "train: /kaggle/working/Dataset/images/train\n",
      "val: /kaggle/working/Dataset/images/val\n",
      "\n"
     ]
    }
   ],
   "source": [
    "cwd = '/kaggle/working/'\n",
    "\n",
    "data = dict(\n",
    "    train =  \"/kaggle/working/Dataset/images/train\" ,\n",
    "    val   =  \"/kaggle/working/Dataset/images/val\",\n",
    "    nc    = 2,\n",
    "    names = ['With Helmet', 'Without Helmet']\n",
    "    )\n",
    "\n",
    "with open(join( cwd , 'data.yaml'), 'w') as outfile:\n",
    "    yaml.dump(data, outfile, default_flow_style=False)\n",
    "\n",
    "f = open(join( cwd , 'data.yaml'), 'r')\n",
    "print('\\nyaml:')\n",
    "print(f.read())"
   ]
  },
  {
   "cell_type": "code",
   "execution_count": 4,
   "id": "a8e0219c",
   "metadata": {
    "execution": {
     "iopub.execute_input": "2022-01-26T19:45:36.009621Z",
     "iopub.status.busy": "2022-01-26T19:45:36.008526Z",
     "iopub.status.idle": "2022-01-26T19:45:36.271981Z",
     "shell.execute_reply": "2022-01-26T19:45:36.271499Z",
     "shell.execute_reply.started": "2022-01-26T16:05:03.782248Z"
    },
    "papermill": {
     "duration": 0.272498,
     "end_time": "2022-01-26T19:45:36.272104",
     "exception": false,
     "start_time": "2022-01-26T19:45:35.999606",
     "status": "completed"
    },
    "tags": []
   },
   "outputs": [
    {
     "data": {
      "text/plain": [
       "'/kaggle/working/yolov5-master'"
      ]
     },
     "execution_count": 4,
     "metadata": {},
     "output_type": "execute_result"
    }
   ],
   "source": [
    "shutil.copytree(\"../input/yolov5/yolov5-master\",\"/kaggle/working/yolov5-master\")"
   ]
  },
  {
   "cell_type": "code",
   "execution_count": 5,
   "id": "911a1692",
   "metadata": {
    "execution": {
     "iopub.execute_input": "2022-01-26T19:45:36.291317Z",
     "iopub.status.busy": "2022-01-26T19:45:36.290161Z",
     "iopub.status.idle": "2022-01-26T19:45:37.631102Z",
     "shell.execute_reply": "2022-01-26T19:45:37.631530Z",
     "shell.execute_reply.started": "2022-01-26T16:05:06.020755Z"
    },
    "papermill": {
     "duration": 1.352534,
     "end_time": "2022-01-26T19:45:37.631673",
     "exception": false,
     "start_time": "2022-01-26T19:45:36.279139",
     "status": "completed"
    },
    "tags": []
   },
   "outputs": [
    {
     "name": "stdout",
     "output_type": "stream",
     "text": [
      "Setup complete. Using torch 1.9.1 _CudaDeviceProperties(name='Tesla P100-PCIE-16GB', major=6, minor=0, total_memory=16280MB, multi_processor_count=56)\n"
     ]
    }
   ],
   "source": [
    "os.chdir('/kaggle/working/yolov5-master')\n",
    "\n",
    "import torch\n",
    "from IPython.display import Image, clear_output \n",
    "clear_output()\n",
    "print('Setup complete. Using torch %s %s' % (torch.__version__, torch.cuda.get_device_properties(0) if torch.cuda.is_available() else 'CPU'))"
   ]
  },
  {
   "cell_type": "code",
   "execution_count": 6,
   "id": "0fe06b15",
   "metadata": {
    "execution": {
     "iopub.execute_input": "2022-01-26T19:45:37.653500Z",
     "iopub.status.busy": "2022-01-26T19:45:37.651441Z",
     "iopub.status.idle": "2022-01-26T19:45:37.656250Z",
     "shell.execute_reply": "2022-01-26T19:45:37.656723Z",
     "shell.execute_reply.started": "2022-01-26T16:05:12.904565Z"
    },
    "papermill": {
     "duration": 0.016266,
     "end_time": "2022-01-26T19:45:37.656864",
     "exception": false,
     "start_time": "2022-01-26T19:45:37.640598",
     "status": "completed"
    },
    "tags": []
   },
   "outputs": [],
   "source": [
    "from PIL import ImageFile\n",
    "ImageFile.LOAD_TRUNCATED_IMAGES = True"
   ]
  },
  {
   "cell_type": "code",
   "execution_count": 7,
   "id": "fe59ba1f",
   "metadata": {
    "execution": {
     "iopub.execute_input": "2022-01-26T19:45:37.728142Z",
     "iopub.status.busy": "2022-01-26T19:45:37.727392Z",
     "iopub.status.idle": "2022-01-26T19:52:26.931865Z",
     "shell.execute_reply": "2022-01-26T19:52:26.931368Z"
    },
    "papermill": {
     "duration": 409.216404,
     "end_time": "2022-01-26T19:52:26.932011",
     "exception": false,
     "start_time": "2022-01-26T19:45:37.715607",
     "status": "completed"
    },
    "tags": []
   },
   "outputs": [
    {
     "name": "stdout",
     "output_type": "stream",
     "text": [
      "Downloading https://ultralytics.com/assets/Arial.ttf to /root/.config/Ultralytics/Arial.ttf...\r\n",
      "\u001b[34m\u001b[1mtrain: \u001b[0mweights=yolov5s.pt, cfg=, data=/kaggle/working/data.yaml, hyp=data/hyps/hyp.scratch.yaml, epochs=30, batch_size=32, imgsz=640, rect=False, resume=False, nosave=False, noval=False, noautoanchor=False, evolve=None, bucket=, cache=ram, image_weights=False, device=, multi_scale=False, single_cls=False, adam=False, sync_bn=False, workers=8, project=runs/train, name=exp, exist_ok=False, quad=False, linear_lr=False, label_smoothing=0.0, patience=100, freeze=[0], save_period=-1, local_rank=-1, entity=None, upload_dataset=False, bbox_interval=-1, artifact_alias=latest\r\n",
      "\u001b[34m\u001b[1mgithub: \u001b[0mskipping check (not a git repository), for updates see https://github.com/ultralytics/yolov5\r\n",
      "YOLOv5 🚀 2022-1-26 torch 1.9.1 CUDA:0 (Tesla P100-PCIE-16GB, 16281MiB)\r\n",
      "\r\n",
      "\u001b[34m\u001b[1mhyperparameters: \u001b[0mlr0=0.01, lrf=0.1, momentum=0.937, weight_decay=0.0005, warmup_epochs=3.0, warmup_momentum=0.8, warmup_bias_lr=0.1, box=0.05, cls=0.5, cls_pw=1.0, obj=1.0, obj_pw=1.0, iou_t=0.2, anchor_t=4.0, fl_gamma=0.0, hsv_h=0.015, hsv_s=0.7, hsv_v=0.4, degrees=0.0, translate=0.1, scale=0.5, shear=0.0, perspective=0.0, flipud=0.0, fliplr=0.5, mosaic=1.0, mixup=0.0, copy_paste=0.0\r\n",
      "\u001b[34m\u001b[1mWeights & Biases: \u001b[0mrun 'pip install wandb' to automatically track and visualize YOLOv5 🚀 runs (RECOMMENDED)\r\n",
      "\u001b[34m\u001b[1mTensorBoard: \u001b[0mStart with 'tensorboard --logdir runs/train', view at http://localhost:6006/\r\n",
      "Downloading https://github.com/ultralytics/yolov5/releases/download/v6.0/yolov5s.pt to yolov5s.pt...\r\n",
      "100%|███████████████████████████████████████| 14.0M/14.0M [00:00<00:00, 120MB/s]\r\n",
      "\r\n",
      "Overriding model.yaml nc=80 with nc=2\r\n",
      "\r\n",
      "                 from  n    params  module                                  arguments                     \r\n",
      "  0                -1  1      3520  models.common.Conv                      [3, 32, 6, 2, 2]              \r\n",
      "  1                -1  1     18560  models.common.Conv                      [32, 64, 3, 2]                \r\n",
      "  2                -1  1     18816  models.common.C3                        [64, 64, 1]                   \r\n",
      "  3                -1  1     73984  models.common.Conv                      [64, 128, 3, 2]               \r\n",
      "  4                -1  2    115712  models.common.C3                        [128, 128, 2]                 \r\n",
      "  5                -1  1    295424  models.common.Conv                      [128, 256, 3, 2]              \r\n",
      "  6                -1  3    625152  models.common.C3                        [256, 256, 3]                 \r\n",
      "  7                -1  1   1180672  models.common.Conv                      [256, 512, 3, 2]              \r\n",
      "  8                -1  1   1182720  models.common.C3                        [512, 512, 1]                 \r\n",
      "  9                -1  1    656896  models.common.SPPF                      [512, 512, 5]                 \r\n",
      " 10                -1  1    131584  models.common.Conv                      [512, 256, 1, 1]              \r\n",
      " 11                -1  1         0  torch.nn.modules.upsampling.Upsample    [None, 2, 'nearest']          \r\n",
      " 12           [-1, 6]  1         0  models.common.Concat                    [1]                           \r\n",
      " 13                -1  1    361984  models.common.C3                        [512, 256, 1, False]          \r\n",
      " 14                -1  1     33024  models.common.Conv                      [256, 128, 1, 1]              \r\n",
      " 15                -1  1         0  torch.nn.modules.upsampling.Upsample    [None, 2, 'nearest']          \r\n",
      " 16           [-1, 4]  1         0  models.common.Concat                    [1]                           \r\n",
      " 17                -1  1     90880  models.common.C3                        [256, 128, 1, False]          \r\n",
      " 18                -1  1    147712  models.common.Conv                      [128, 128, 3, 2]              \r\n",
      " 19          [-1, 14]  1         0  models.common.Concat                    [1]                           \r\n",
      " 20                -1  1    296448  models.common.C3                        [256, 256, 1, False]          \r\n",
      " 21                -1  1    590336  models.common.Conv                      [256, 256, 3, 2]              \r\n",
      " 22          [-1, 10]  1         0  models.common.Concat                    [1]                           \r\n",
      " 23                -1  1   1182720  models.common.C3                        [512, 512, 1, False]          \r\n",
      " 24      [17, 20, 23]  1     18879  models.yolo.Detect                      [2, [[10, 13, 16, 30, 33, 23], [30, 61, 62, 45, 59, 119], [116, 90, 156, 198, 373, 326]], [128, 256, 512]]\r\n",
      "Model Summary: 270 layers, 7025023 parameters, 7025023 gradients\r\n",
      "\r\n",
      "Transferred 343/349 items from yolov5s.pt\r\n",
      "Scaled weight_decay = 0.0005\r\n",
      "\u001b[34m\u001b[1moptimizer:\u001b[0m SGD with parameter groups 57 weight, 60 weight (no decay), 60 bias\r\n",
      "\u001b[34m\u001b[1malbumentations: \u001b[0mBlur(always_apply=False, p=0.01, blur_limit=(3, 7)), MedianBlur(always_apply=False, p=0.01, blur_limit=(3, 7)), ToGray(always_apply=False, p=0.01), CLAHE(always_apply=False, p=0.01, clip_limit=(1, 4.0), tile_grid_size=(8, 8))\r\n",
      "\u001b[34m\u001b[1mtrain: \u001b[0mScanning '/kaggle/working/Dataset/labels/train' images and labels...535 f\u001b[0m\r\n",
      "\u001b[34m\u001b[1mtrain: \u001b[0mNew cache created: /kaggle/working/Dataset/labels/train.cache\r\n",
      "\u001b[34m\u001b[1mtrain: \u001b[0mCaching images (0.5GB ram): 100%|█████| 535/535 [00:01<00:00, 384.88it/s]\u001b[0m\r\n",
      "\u001b[34m\u001b[1mval: \u001b[0mScanning '/kaggle/working/Dataset/labels/val' images and labels...94 found,\u001b[0m\r\n",
      "\u001b[34m\u001b[1mval: \u001b[0mNew cache created: /kaggle/working/Dataset/labels/val.cache\r\n",
      "\u001b[34m\u001b[1mval: \u001b[0mCaching images (0.1GB ram): 100%|█████████| 94/94 [00:00<00:00, 170.65it/s]\u001b[0m\r\n",
      "Plotting labels to runs/train/exp/labels.jpg... \r\n",
      "\r\n",
      "\u001b[34m\u001b[1mAutoAnchor: \u001b[0m6.19 anchors/target, 1.000 Best Possible Recall (BPR). Current anchors are a good fit to dataset ✅\r\n",
      "Image sizes 640 train, 640 val\r\n",
      "Using 2 dataloader workers\r\n",
      "Logging results to \u001b[1mruns/train/exp\u001b[0m\r\n",
      "Starting training for 30 epochs...\r\n",
      "\r\n",
      "     Epoch   gpu_mem       box       obj       cls    labels  img_size\r\n",
      "      0/29     7.62G    0.1108   0.03757    0.0275        69       640: 100%|███\r\n",
      "               Class     Images     Labels          P          R     mAP@.5 mAP@\r\n",
      "                 all         94        164   0.000657     0.0654   0.000356   7.38e-05\r\n",
      "\r\n",
      "     Epoch   gpu_mem       box       obj       cls    labels  img_size\r\n",
      "      1/29     7.62G   0.09518   0.03845    0.0259        76       640: 100%|███\r\n",
      "               Class     Images     Labels          P          R     mAP@.5 mAP@\r\n",
      "                 all         94        164    0.00179      0.217    0.00117   0.000312\r\n",
      "\r\n",
      "     Epoch   gpu_mem       box       obj       cls    labels  img_size\r\n",
      "      2/29     7.62G   0.08468    0.0405   0.02464        60       640: 100%|███\r\n",
      "               Class     Images     Labels          P          R     mAP@.5 mAP@\r\n",
      "                 all         94        164     0.0146      0.178     0.0119    0.00301\r\n",
      "\r\n",
      "     Epoch   gpu_mem       box       obj       cls    labels  img_size\r\n",
      "      3/29     7.62G   0.07439   0.04218   0.02371        67       640: 100%|███\r\n",
      "               Class     Images     Labels          P          R     mAP@.5 mAP@\r\n",
      "                 all         94        164      0.109      0.213      0.133     0.0306\r\n",
      "\r\n",
      "     Epoch   gpu_mem       box       obj       cls    labels  img_size\r\n",
      "      4/29     7.62G   0.06671   0.03822   0.02316        64       640: 100%|███\r\n",
      "               Class     Images     Labels          P          R     mAP@.5 mAP@\r\n",
      "                 all         94        164      0.679      0.326      0.277     0.0579\r\n",
      "\r\n",
      "     Epoch   gpu_mem       box       obj       cls    labels  img_size\r\n",
      "      5/29     7.62G   0.06459   0.03241   0.02282        71       640: 100%|███\r\n",
      "               Class     Images     Labels          P          R     mAP@.5 mAP@\r\n",
      "                 all         94        164      0.255      0.709      0.395      0.142\r\n",
      "\r\n",
      "     Epoch   gpu_mem       box       obj       cls    labels  img_size\r\n",
      "      6/29     7.62G   0.06254   0.02958   0.02279        65       640: 100%|███\r\n",
      "               Class     Images     Labels          P          R     mAP@.5 mAP@\r\n",
      "                 all         94        164      0.286      0.656      0.452      0.173\r\n",
      "\r\n",
      "     Epoch   gpu_mem       box       obj       cls    labels  img_size\r\n",
      "      7/29     7.62G   0.05945    0.0285   0.02146        86       640: 100%|███\r\n",
      "               Class     Images     Labels          P          R     mAP@.5 mAP@\r\n",
      "                 all         94        164       0.31      0.675      0.455       0.12\r\n",
      "\r\n",
      "     Epoch   gpu_mem       box       obj       cls    labels  img_size\r\n",
      "      8/29     7.62G    0.0565    0.0255   0.02166        56       640: 100%|███\r\n",
      "               Class     Images     Labels          P          R     mAP@.5 mAP@\r\n",
      "                 all         94        164      0.326      0.675      0.481      0.172\r\n",
      "\r\n",
      "     Epoch   gpu_mem       box       obj       cls    labels  img_size\r\n",
      "      9/29     7.62G   0.05361   0.02429   0.02036        94       640: 100%|███\r\n",
      "               Class     Images     Labels          P          R     mAP@.5 mAP@\r\n",
      "                 all         94        164      0.307      0.643      0.508      0.201\r\n",
      "\r\n",
      "     Epoch   gpu_mem       box       obj       cls    labels  img_size\r\n",
      "     10/29     7.62G   0.05437   0.02588   0.01968        79       640: 100%|███\r\n",
      "               Class     Images     Labels          P          R     mAP@.5 mAP@\r\n",
      "                 all         94        164      0.562      0.594      0.544      0.234\r\n",
      "\r\n",
      "     Epoch   gpu_mem       box       obj       cls    labels  img_size\r\n",
      "     11/29     7.62G     0.051   0.02326   0.01765        74       640: 100%|███\r\n",
      "               Class     Images     Labels          P          R     mAP@.5 mAP@\r\n",
      "                 all         94        164      0.431      0.749       0.57      0.272\r\n",
      "\r\n",
      "     Epoch   gpu_mem       box       obj       cls    labels  img_size\r\n",
      "     12/29     7.62G   0.05156     0.023   0.01542        72       640: 100%|███\r\n",
      "               Class     Images     Labels          P          R     mAP@.5 mAP@\r\n",
      "                 all         94        164      0.446      0.734      0.566      0.258\r\n",
      "\r\n",
      "     Epoch   gpu_mem       box       obj       cls    labels  img_size\r\n",
      "     13/29     7.62G   0.05232   0.02404    0.0133        93       640: 100%|███\r\n",
      "               Class     Images     Labels          P          R     mAP@.5 mAP@\r\n",
      "                 all         94        164      0.459      0.719      0.572      0.266\r\n",
      "\r\n",
      "     Epoch   gpu_mem       box       obj       cls    labels  img_size\r\n",
      "     14/29     7.62G   0.04906    0.0224   0.01118        61       640: 100%|███\r\n",
      "               Class     Images     Labels          P          R     mAP@.5 mAP@\r\n",
      "                 all         94        164      0.565      0.711      0.677      0.339\r\n",
      "\r\n",
      "     Epoch   gpu_mem       box       obj       cls    labels  img_size\r\n",
      "     15/29     7.62G   0.04846     0.022   0.01043        68       640: 100%|███\r\n",
      "               Class     Images     Labels          P          R     mAP@.5 mAP@\r\n",
      "                 all         94        164      0.578      0.686      0.664      0.313\r\n",
      "\r\n",
      "     Epoch   gpu_mem       box       obj       cls    labels  img_size\r\n",
      "     16/29     7.62G   0.04514   0.02091  0.008863        68       640: 100%|███\r\n",
      "               Class     Images     Labels          P          R     mAP@.5 mAP@\r\n",
      "                 all         94        164      0.629      0.767      0.712      0.358\r\n",
      "\r\n",
      "     Epoch   gpu_mem       box       obj       cls    labels  img_size\r\n",
      "     17/29     7.62G   0.04396   0.02101  0.008611        93       640: 100%|███\r\n",
      "               Class     Images     Labels          P          R     mAP@.5 mAP@\r\n",
      "                 all         94        164      0.562       0.75      0.668      0.344\r\n",
      "\r\n",
      "     Epoch   gpu_mem       box       obj       cls    labels  img_size\r\n",
      "     18/29     7.62G   0.04315   0.02105  0.008278        92       640: 100%|███\r\n",
      "               Class     Images     Labels          P          R     mAP@.5 mAP@\r\n",
      "                 all         94        164      0.541      0.759       0.65      0.313\r\n",
      "\r\n",
      "     Epoch   gpu_mem       box       obj       cls    labels  img_size\r\n",
      "     19/29     7.62G   0.04289   0.02182  0.007455        75       640: 100%|███\r\n",
      "               Class     Images     Labels          P          R     mAP@.5 mAP@\r\n",
      "                 all         94        164       0.64      0.747      0.721      0.357\r\n",
      "\r\n",
      "     Epoch   gpu_mem       box       obj       cls    labels  img_size\r\n",
      "     20/29     7.62G   0.04064   0.02053  0.006988        82       640: 100%|███\r\n",
      "               Class     Images     Labels          P          R     mAP@.5 mAP@\r\n",
      "                 all         94        164      0.687      0.692      0.718      0.373\r\n",
      "\r\n",
      "     Epoch   gpu_mem       box       obj       cls    labels  img_size\r\n",
      "     21/29     7.62G   0.03985   0.02095   0.00628        88       640: 100%|███\r\n",
      "               Class     Images     Labels          P          R     mAP@.5 mAP@\r\n",
      "                 all         94        164      0.672      0.783      0.753      0.399\r\n",
      "\r\n",
      "     Epoch   gpu_mem       box       obj       cls    labels  img_size\r\n",
      "     22/29     7.62G   0.03739   0.01965  0.006336        63       640: 100%|███\r\n",
      "               Class     Images     Labels          P          R     mAP@.5 mAP@\r\n",
      "                 all         94        164       0.66      0.763      0.752      0.395\r\n",
      "\r\n",
      "     Epoch   gpu_mem       box       obj       cls    labels  img_size\r\n",
      "     23/29     7.62G   0.03563   0.01975  0.005749        73       640: 100%|███\r\n",
      "               Class     Images     Labels          P          R     mAP@.5 mAP@\r\n",
      "                 all         94        164      0.746        0.7      0.764      0.382\r\n",
      "\r\n",
      "     Epoch   gpu_mem       box       obj       cls    labels  img_size\r\n",
      "     24/29     7.62G   0.03502   0.02032  0.006346        82       640: 100%|███\r\n",
      "               Class     Images     Labels          P          R     mAP@.5 mAP@\r\n",
      "                 all         94        164      0.644      0.782      0.743      0.403\r\n",
      "\r\n",
      "     Epoch   gpu_mem       box       obj       cls    labels  img_size\r\n",
      "     25/29     7.62G   0.03474   0.01858  0.005647        71       640: 100%|███\r\n",
      "               Class     Images     Labels          P          R     mAP@.5 mAP@\r\n",
      "                 all         94        164      0.703       0.72      0.743      0.383\r\n",
      "\r\n",
      "     Epoch   gpu_mem       box       obj       cls    labels  img_size\r\n",
      "     26/29     7.62G   0.03445   0.01964  0.005626        87       640: 100%|███\r\n",
      "               Class     Images     Labels          P          R     mAP@.5 mAP@\r\n",
      "                 all         94        164      0.773      0.688      0.772      0.429\r\n",
      "\r\n",
      "     Epoch   gpu_mem       box       obj       cls    labels  img_size\r\n",
      "     27/29     7.62G   0.03336   0.01856  0.005662        66       640: 100%|███\r\n",
      "               Class     Images     Labels          P          R     mAP@.5 mAP@\r\n",
      "                 all         94        164      0.667      0.807      0.783      0.427\r\n",
      "\r\n",
      "     Epoch   gpu_mem       box       obj       cls    labels  img_size\r\n",
      "     28/29     7.62G   0.03368   0.01958  0.005056        86       640: 100%|███\r\n",
      "               Class     Images     Labels          P          R     mAP@.5 mAP@\r\n",
      "                 all         94        164      0.619      0.754      0.731      0.405\r\n",
      "\r\n",
      "     Epoch   gpu_mem       box       obj       cls    labels  img_size\r\n",
      "     29/29     7.62G   0.03696   0.01977  0.004656       103       640: 100%|███\r\n",
      "               Class     Images     Labels          P          R     mAP@.5 mAP@\r\n",
      "                 all         94        164      0.714      0.724       0.76      0.406\r\n",
      "\r\n",
      "30 epochs completed in 0.103 hours.\r\n",
      "Optimizer stripped from runs/train/exp/weights/last.pt, 14.5MB\r\n",
      "Optimizer stripped from runs/train/exp/weights/best.pt, 14.5MB\r\n",
      "\r\n",
      "Validating runs/train/exp/weights/best.pt...\r\n",
      "Fusing layers... \r\n",
      "Model Summary: 213 layers, 7015519 parameters, 0 gradients\r\n",
      "               Class     Images     Labels          P          R     mAP@.5 mAP@\r\n",
      "                 all         94        164      0.737      0.714      0.772      0.428\r\n",
      "         With Helmet         94        101       0.78      0.841       0.87      0.532\r\n",
      "      Without Helmet         94         63      0.695      0.587      0.674      0.323\r\n",
      "Results saved to \u001b[1mruns/train/exp\u001b[0m\r\n",
      "Exception ignored in: <function _MultiProcessingDataLoaderIter.__del__ at 0x7f871b2178c0>\r\n",
      "Traceback (most recent call last):\r\n",
      "  File \"/opt/conda/lib/python3.7/site-packages/torch/utils/data/dataloader.py\", line 1328, in __del__\r\n",
      "  File \"/opt/conda/lib/python3.7/site-packages/torch/utils/data/dataloader.py\", line 1262, in _shutdown_workers\r\n",
      "AttributeError: 'NoneType' object has no attribute 'python_exit_status'\r\n",
      "Exception ignored in: <function _MultiProcessingDataLoaderIter.__del__ at 0x7f871b2178c0>\r\n",
      "Traceback (most recent call last):\r\n",
      "  File \"/opt/conda/lib/python3.7/site-packages/torch/utils/data/dataloader.py\", line 1328, in __del__\r\n",
      "  File \"/opt/conda/lib/python3.7/site-packages/torch/utils/data/dataloader.py\", line 1262, in _shutdown_workers\r\n",
      "AttributeError: 'NoneType' object has no attribute 'python_exit_status'\r\n"
     ]
    }
   ],
   "source": [
    "!WANDB_MODE=\"dryrun\" python train.py --img 640 --batch 32 --epochs 30 --data /kaggle/working/data.yaml --weights yolov5s.pt --cache"
   ]
  },
  {
   "cell_type": "code",
   "execution_count": null,
   "id": "ea0a0450",
   "metadata": {
    "papermill": {
     "duration": 0.185181,
     "end_time": "2022-01-26T19:52:27.298604",
     "exception": false,
     "start_time": "2022-01-26T19:52:27.113423",
     "status": "completed"
    },
    "tags": []
   },
   "outputs": [],
   "source": []
  }
 ],
 "metadata": {
  "kernelspec": {
   "display_name": "Python 3",
   "language": "python",
   "name": "python3"
  },
  "language_info": {
   "codemirror_mode": {
    "name": "ipython",
    "version": 3
   },
   "file_extension": ".py",
   "mimetype": "text/x-python",
   "name": "python",
   "nbconvert_exporter": "python",
   "pygments_lexer": "ipython3",
   "version": "3.7.12"
  },
  "papermill": {
   "default_parameters": {},
   "duration": 423.538131,
   "end_time": "2022-01-26T19:52:28.097387",
   "environment_variables": {},
   "exception": null,
   "input_path": "__notebook__.ipynb",
   "output_path": "__notebook__.ipynb",
   "parameters": {},
   "start_time": "2022-01-26T19:45:24.559256",
   "version": "2.3.3"
  }
 },
 "nbformat": 4,
 "nbformat_minor": 5
}
